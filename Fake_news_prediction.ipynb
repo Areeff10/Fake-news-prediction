{
  "cells": [
    {
      "cell_type": "markdown",
      "metadata": {
        "id": "view-in-github",
        "colab_type": "text"
      },
      "source": [
        "<a href=\"https://colab.research.google.com/github/Areeff10/Fake-news-prediction/blob/main/Fake_news_prediction.ipynb\" target=\"_parent\"><img src=\"https://colab.research.google.com/assets/colab-badge.svg\" alt=\"Open In Colab\"/></a>"
      ]
    },
    {
      "cell_type": "markdown",
      "metadata": {
        "id": "_TflbC-HALGd"
      },
      "source": [
        "# Importing the Libraries"
      ]
    },
    {
      "cell_type": "code",
      "execution_count": null,
      "metadata": {
        "id": "BYHj-JfvDHMm"
      },
      "outputs": [],
      "source": [
        "import pandas as pd\n",
        "from nltk.tokenize import word_tokenize,sent_tokenize\n",
        "from string import punctuation\n",
        "from nltk.stem import SnowballStemmer,PorterStemmer\n",
        "from nltk.corpus import stopwords\n",
        "from sklearn.model_selection import train_test_split\n",
        "from sklearn.naive_bayes import GaussianNB,BernoulliNB,MultinomialNB\n",
        "from sklearn.metrics import confusion_matrix,accuracy_score,precision_score,f1_score\n",
        "from sklearn.feature_extraction.text import CountVectorizer\n",
        "from sklearn.linear_model import LogisticRegression"
      ]
    },
    {
      "cell_type": "markdown",
      "metadata": {
        "id": "uOj4v22RAlAp"
      },
      "source": [
        "# Loading the dataset"
      ]
    },
    {
      "cell_type": "code",
      "execution_count": null,
      "metadata": {
        "colab": {
          "base_uri": "https://localhost:8080/",
          "height": 206
        },
        "id": "qr8WmGltIQlA",
        "outputId": "a730bc62-2692-4c49-d552-458d9147abb2"
      },
      "outputs": [
        {
          "data": {
            "application/vnd.google.colaboratory.intrinsic+json": {
              "summary": "{\n  \"name\": \"dataset\",\n  \"rows\": 1107,\n  \"fields\": [\n    {\n      \"column\": \"id\",\n      \"properties\": {\n        \"dtype\": \"number\",\n        \"std\": 320.3255378275574,\n        \"min\": 0.0,\n        \"max\": 1108.0,\n        \"num_unique_values\": 1106,\n        \"samples\": [\n          324.0,\n          734.0,\n          56.0\n        ],\n        \"semantic_type\": \"\",\n        \"description\": \"\"\n      }\n    },\n    {\n      \"column\": \"title\",\n      \"properties\": {\n        \"dtype\": \"string\",\n        \"num_unique_values\": 1093,\n        \"samples\": [\n          \"MEDIA WON\\u2019T SHOW VIDEO Of Trump Telling Matt Lauer David Duke Is A \\u201cBigot\\u201d and A \\u201cRacist\\u2026IGNORES HILLARY\\u2019S Ties To Former KKK Leader, Democrat Senator Robert Byrd\",\n          \"Poll Finds Voters in Both Parties Unhappy With Their Candidates - The New York Times\",\n          \"Labour leader and other UK lawmakers could lose seats in cost cutting plan\"\n        ],\n        \"semantic_type\": \"\",\n        \"description\": \"\"\n      }\n    },\n    {\n      \"column\": \"text\",\n      \"properties\": {\n        \"dtype\": \"string\",\n        \"num_unique_values\": 1091,\n        \"samples\": [\n          \"WASHINGTON (Reuters) - Republicans lawmakers on Tuesday started trying to kill a brand-new U.S. rule prohibiting banks and credit card companies from requiring customers who open new accounts to sign an agreement that they will not join a group lawsuit in the event of a dispute. The Consumer Financial Protection Bureau on Monday finalized the new rule banning \\u201cmandatory arbitration clauses\\u201d requiring consumers to forego class-action suits and instead settle disputes in negotiations overseen by arbitrators frequently hired by companies. The rule immediately ran into fierce opposition by Wall Street and Republicans who control both Congress and the White House. They have long criticized the consumer agency, which is run by a Democrat, Richard Cordray. Senator Tom Cotton, a member of the Banking Committee, has already announced he is drafting a resolution to kill the rule. His fellow Republican Senator Pat Toomey, chair of the subcommittee on financial institutions and consumer protection, said he is considering a similar step.  Republican lawmakers plan to eliminate the rule, using a law that allows Congress to undo new regulations with simple majority votes in both chambers and a signature from the president. Analysts and consumer advocates have said the agency\\u2019s rule may survive the Congressional challenge. Still, the U.S. Chamber of Commerce is contemplating a legal challenge and Trump administration officials are also looking at ways to kill the rule. Isaac Boltansky, a policy analyst for the investment firm Compass Point Research & Trading, said the rule has a slightly better than 50 percent chance of surviving in Congress. Joe Valenti, who tracks the issue for the liberal-leaning Center for American Progress, said the House of Representatives was unified against the rule, which opponents have argued benefits class-action lawyers, not consumers. \\u201cIt comes down to the Senate,\\u201d said Valenti, noting that the rule would survive if only three Republicans in that chamber switched sides. That is possible, said Ed Mierzwinksi, the consumer program director for the U.S. Public Interest Research Groups. He noted that Senate Republicans have struggled to gather enough votes for majorities and the calendar is swollen with pressing legislation and confirmation hearings. In addition, Mierzwinksi said, senators may be leery of appearing to side with Wall Street against consumers. He noted that Wells Fargo & Co used clauses in its account-opening agreements to block customers from suing over its phantom account scandal. Supporters of the rule say mandatory arbitration denies citizens their day in court and is rigged in favor of big firms. They say litigants banding together in a class-action lawsuit have a better chance of getting companies to answer publicly for illegal activities and that fears of such a suit can discourage law breaking. The consumer protection agency wrote the rule after conducting a lengthy, multi-year study of the issue. Opponents of the rule say the study is flawed and that arbitration is cheaper and faster than class-action lawsuits and produces better awards for consumers. The Chamber is exploring a prompt legal challenge to the rule, said Matt Webb, senior vice president for its legal reform institute. Another possible challenge could come from the acting comptroller of the currency, Keith Noreika. He is laying groundwork to invoke an untested provision of the 2010 Dodd-Frank financial reform law that allows the council of the country\\u2019s top financial regulators to nullify a consumer agency rule if they decide it threatens the safety and soundness of the banking system. Rohit Chopra, senior fellow at the Consumer Federation of America and former CFPB assistant director, said a lawsuit will probably fail because the law says the agency can restrict arbitration as long as it hews to its study.  He said the Dodd-Frank provision that the comptroller\\u2019s office is looking at was meant to keep risks to the financial system at bay.  \\u201cTo suggest that this rule would cause a financial crisis is ridiculous on its face,\\u201d he said. \",\n          \"Later this week, Pope Francis will reportedly make a moral case for combating climate change, arguing that it is mostly a problem created by humans and that we must make fundamental lifestyle and energy consumption changes to reverse course \\u2014 on behalf of the world\\u2019s poor, but also on behalf of all of us. This, among other factors, could help push climate change on to the national political agenda, giving it more relevance to this cycle than it has enjoyed in previous years.\\n\\nBut if anything, the partisan and ideological divide over global warming is as wide as ever, and perhaps is getting worse.\\n\\nThat\\u2019s what a new Pew poll indicates. The Pew poll finds that worry about global warming is on the rise: Some 69 percent of Americans now say it is a \\u201cvery\\u201d or \\u201csomewhat\\u201d serious problem. However, Pew also finds: \\u201cviews about the significance of global warming as a problem continue to diverge.\\u201d\\n\\nThe Pew poll finds that 68 percent of Americans think there is solid evidence of global warming. But the partisan divide is stark:\\u00a086 percent of Democrats and 70 percent of independents say there is evidence of it, while Republicans are split, 45-48, on the question.\\n\\nThat\\u2019s driven (not surprisingly) by conservative Republicans, the only ideological group that says there\\u2019s no solid evidence of climate change \\u2014 and when you get deeper into the partisan and ideological breakdown, the differences get more stark:\\n\\nToday, roughly nine-in-ten liberal Democrats (92%) say that there is solid evidence the earth\\u2019s average temperature is rising, and 76% attribute this rise mostly to human activity. Very few liberal Democrats (5%) say there is not solid evidence of warming. A clear 83% majority of conservative and moderate Democrats also say the Earth is warming, but just 55% say this is the result of human activity. By contrast, just 38% of conservative Republicans say that there is solid evidence of global warming. Reflecting a divide within the GOP, conservative Republicans stand out as the only ideological group in which a majority (56%) says that there is not solid evidence of a rise in the earth\\u2019s temperature (a 61% majority of moderate and liberal Republicans say the earth is warming).\\n\\nMeanwhile, as David Leonardt notes, skepticism about global warming is running high among GOP voter groups, such as older voters, whites, men, and white evangelicals.\\n\\nWhile there are reasons to doubt that Hillary Clinton will be quite the climate hawk that some advocates hope for, in her Saturday kick-off speech she leaned harder than expected into arguments for robust action to combat climate change and transition towards a clean energy economy and future. It\\u2019s often said that climate is not a motivating issue for voters, and it\\u2019s true that Democrats and advocates have not cracked this problem yet. That said, whatever the impact on the electoral outcome, it\\u2019s still plausible that climate will have a significantly higher profile this cycle than it has in previous ones.\\n\\nIt\\u2019s not just that Clinton appeared to signal that she will campaign on climate, as part of a broader bet on the Obama coalition of millennials, non-whites, and socially liberal college educated whites. It\\u2019s also a confluence of other factors: The Obama administration will roll out new EPA rules for existing power plans this summer, and the court battles over them will intensify. Meanwhile, President Obama will be trying to negotiate a global climate deal later this year in Paris. All indications are he\\u2019ll be talking about the issue more and more, as a key piece of his legacy. These developments may coincide with the intensifying GOP presidential primary, in which the candidates will all be showcasing the zeal with which they\\u2019d roll back Obama\\u2019s agenda \\u2014 the climate piece included.\\n\\nAll of which seems likely to only make polarization around climate change worse. No matter what Pope Francis has to say about it.\\n\\nUPDATE: I should also have noted that the Pew poll finds that worry about global warming is on the rise: Some 69 percent of Americans say it is a \\u201cvery\\u201d or \\u201csomewhat\\u201d serious problem. I\\u2019ve edited the above to add that.\",\n          \"Update: Bank of America has also cancelled its sponsorship of New York City\\u2019s Public Theater, becoming the second sponsor to pull its support from the this summer\\u2019s season of Shakespeare in the Park. [\\u201cBank of America supports art programs worldwide, including an   partnership with The Public Theater and Shakespeare in the Park,\\u201d a spokesperson for the company told the New York Daily News Sunday. \\u201cThe Public Theater chose to present Julius Caesar in a way that was intended to provoke and offend. Had this intention been made known to us, we would have decided not to sponsor it. \\u201d  Original story below: Delta Air Lines has cancelled its sponsorship of New York City\\u2019s Public Theater following backlash surrounding a Shakespeare in the Park production of Julius Caesar, a \\u201ccontemporary\\u201d take on the classic play in which a Donald   twist on the titular character is graphically stabbed to death on stage. Breitbart News previously reported that this summer\\u2019s Oskar   production of Julius Caesar  \\u2014   which opened in previews last month in Central Park\\u2019s Delacorte Theater  \\u2014   had sparked controversy over its main character\\u2019s striking resemblance to President Trump. The character sports blonde,   hair and a business suit and tie, and his wife Calpurnia speaks with a Slavic accent, similar to that of First Lady Melania Trump. Video captured at a recent performance shows the   Caesar character graphically stabbed to death during the climax of the play. One attendee recently told Mediaite that the character\\u2019s resemblance to Trump made the assassination scene particularly \\u201cshocking and distasteful. \\u201d In the wake of the controversy, Delta Airlines has reportedly cancelled its sponsorship of the Public Theater, which stages the free productions of Shakespeare in the Park. \\u201cNo matter what your political stance may be, the graphic staging of Julius Caesar at this summer\\u2019s Free Shakespeare in the Park does not reflect Delta Air Lines\\u2019 values,\\u201d the company said in a statement Sunday. \\u201cTheir artistic and creative direction crossed the line on the standards of good taste. We have notified them of our decision to end our sponsorship as the official airline of the Public Theater effective immediately,\\u201d the statement added. Other sponsors of the New York City\\u2019s Public Theater include American Express, the New York Times and Bank of America. The Delta sponsorship cancellation represents a blow to the Public Theater nearly two weeks after another controversy sparked by a graphic depiction of President Trump\\u2019s death led to lost sponsorship and business opportunities. In May, comedian Kathy Griffin posed for a photograph with a fake, bloodied head of the president in her outstretched arm. The photograph generated a firestorm of criticism and Griffin was quickly fired from her role on CNN\\u2019s annual New Year\\u2019s Eve Live broadcast. The comedian also lost out on a commercial deal with a restroom accessories company and had several scheduled performances on her   comedy tour cancelled.   Follow Daniel Nussbaum on Twitter: @dznussbaum\"\n        ],\n        \"semantic_type\": \"\",\n        \"description\": \"\"\n      }\n    },\n    {\n      \"column\": \"label\",\n      \"properties\": {\n        \"dtype\": \"number\",\n        \"std\": 0.4991927380586322,\n        \"min\": 0.0,\n        \"max\": 1.0,\n        \"num_unique_values\": 2,\n        \"samples\": [\n          0.0,\n          1.0\n        ],\n        \"semantic_type\": \"\",\n        \"description\": \"\"\n      }\n    }\n  ]\n}",
              "type": "dataframe",
              "variable_name": "dataset"
            },
            "text/html": [
              "\n",
              "  <div id=\"df-031b2d3f-47fe-47f6-bce4-2e22f3f5bac1\" class=\"colab-df-container\">\n",
              "    <div>\n",
              "<style scoped>\n",
              "    .dataframe tbody tr th:only-of-type {\n",
              "        vertical-align: middle;\n",
              "    }\n",
              "\n",
              "    .dataframe tbody tr th {\n",
              "        vertical-align: top;\n",
              "    }\n",
              "\n",
              "    .dataframe thead th {\n",
              "        text-align: right;\n",
              "    }\n",
              "</style>\n",
              "<table border=\"1\" class=\"dataframe\">\n",
              "  <thead>\n",
              "    <tr style=\"text-align: right;\">\n",
              "      <th></th>\n",
              "      <th>id</th>\n",
              "      <th>title</th>\n",
              "      <th>text</th>\n",
              "      <th>label</th>\n",
              "    </tr>\n",
              "  </thead>\n",
              "  <tbody>\n",
              "    <tr>\n",
              "      <th>0</th>\n",
              "      <td>0.0</td>\n",
              "      <td>LAW ENFORCEMENT ON HIGH ALERT Following Threat...</td>\n",
              "      <td>No comment is expected from Barack Obama Membe...</td>\n",
              "      <td>1.0</td>\n",
              "    </tr>\n",
              "    <tr>\n",
              "      <th>1</th>\n",
              "      <td>1.0</td>\n",
              "      <td>NaN</td>\n",
              "      <td>Did they post their votes for Hillary already?</td>\n",
              "      <td>1.0</td>\n",
              "    </tr>\n",
              "    <tr>\n",
              "      <th>2</th>\n",
              "      <td>2.0</td>\n",
              "      <td>UNBELIEVABLE! OBAMA’S ATTORNEY GENERAL SAYS MO...</td>\n",
              "      <td>Now, most of the demonstrators gathered last ...</td>\n",
              "      <td>1.0</td>\n",
              "    </tr>\n",
              "    <tr>\n",
              "      <th>3</th>\n",
              "      <td>3.0</td>\n",
              "      <td>Bobby Jindal, raised Hindu, uses story of Chri...</td>\n",
              "      <td>A dozen politically active pastors came here f...</td>\n",
              "      <td>0.0</td>\n",
              "    </tr>\n",
              "    <tr>\n",
              "      <th>4</th>\n",
              "      <td>4.0</td>\n",
              "      <td>SATAN 2: Russia unvelis an image of its terrif...</td>\n",
              "      <td>The RS-28 Sarmat missile, dubbed Satan 2, will...</td>\n",
              "      <td>1.0</td>\n",
              "    </tr>\n",
              "  </tbody>\n",
              "</table>\n",
              "</div>\n",
              "    <div class=\"colab-df-buttons\">\n",
              "\n",
              "  <div class=\"colab-df-container\">\n",
              "    <button class=\"colab-df-convert\" onclick=\"convertToInteractive('df-031b2d3f-47fe-47f6-bce4-2e22f3f5bac1')\"\n",
              "            title=\"Convert this dataframe to an interactive table.\"\n",
              "            style=\"display:none;\">\n",
              "\n",
              "  <svg xmlns=\"http://www.w3.org/2000/svg\" height=\"24px\" viewBox=\"0 -960 960 960\">\n",
              "    <path d=\"M120-120v-720h720v720H120Zm60-500h600v-160H180v160Zm220 220h160v-160H400v160Zm0 220h160v-160H400v160ZM180-400h160v-160H180v160Zm440 0h160v-160H620v160ZM180-180h160v-160H180v160Zm440 0h160v-160H620v160Z\"/>\n",
              "  </svg>\n",
              "    </button>\n",
              "\n",
              "  <style>\n",
              "    .colab-df-container {\n",
              "      display:flex;\n",
              "      gap: 12px;\n",
              "    }\n",
              "\n",
              "    .colab-df-convert {\n",
              "      background-color: #E8F0FE;\n",
              "      border: none;\n",
              "      border-radius: 50%;\n",
              "      cursor: pointer;\n",
              "      display: none;\n",
              "      fill: #1967D2;\n",
              "      height: 32px;\n",
              "      padding: 0 0 0 0;\n",
              "      width: 32px;\n",
              "    }\n",
              "\n",
              "    .colab-df-convert:hover {\n",
              "      background-color: #E2EBFA;\n",
              "      box-shadow: 0px 1px 2px rgba(60, 64, 67, 0.3), 0px 1px 3px 1px rgba(60, 64, 67, 0.15);\n",
              "      fill: #174EA6;\n",
              "    }\n",
              "\n",
              "    .colab-df-buttons div {\n",
              "      margin-bottom: 4px;\n",
              "    }\n",
              "\n",
              "    [theme=dark] .colab-df-convert {\n",
              "      background-color: #3B4455;\n",
              "      fill: #D2E3FC;\n",
              "    }\n",
              "\n",
              "    [theme=dark] .colab-df-convert:hover {\n",
              "      background-color: #434B5C;\n",
              "      box-shadow: 0px 1px 3px 1px rgba(0, 0, 0, 0.15);\n",
              "      filter: drop-shadow(0px 1px 2px rgba(0, 0, 0, 0.3));\n",
              "      fill: #FFFFFF;\n",
              "    }\n",
              "  </style>\n",
              "\n",
              "    <script>\n",
              "      const buttonEl =\n",
              "        document.querySelector('#df-031b2d3f-47fe-47f6-bce4-2e22f3f5bac1 button.colab-df-convert');\n",
              "      buttonEl.style.display =\n",
              "        google.colab.kernel.accessAllowed ? 'block' : 'none';\n",
              "\n",
              "      async function convertToInteractive(key) {\n",
              "        const element = document.querySelector('#df-031b2d3f-47fe-47f6-bce4-2e22f3f5bac1');\n",
              "        const dataTable =\n",
              "          await google.colab.kernel.invokeFunction('convertToInteractive',\n",
              "                                                    [key], {});\n",
              "        if (!dataTable) return;\n",
              "\n",
              "        const docLinkHtml = 'Like what you see? Visit the ' +\n",
              "          '<a target=\"_blank\" href=https://colab.research.google.com/notebooks/data_table.ipynb>data table notebook</a>'\n",
              "          + ' to learn more about interactive tables.';\n",
              "        element.innerHTML = '';\n",
              "        dataTable['output_type'] = 'display_data';\n",
              "        await google.colab.output.renderOutput(dataTable, element);\n",
              "        const docLink = document.createElement('div');\n",
              "        docLink.innerHTML = docLinkHtml;\n",
              "        element.appendChild(docLink);\n",
              "      }\n",
              "    </script>\n",
              "  </div>\n",
              "\n",
              "\n",
              "<div id=\"df-9a682bdc-b44b-4f1b-8f7f-c27e69d6d4c1\">\n",
              "  <button class=\"colab-df-quickchart\" onclick=\"quickchart('df-9a682bdc-b44b-4f1b-8f7f-c27e69d6d4c1')\"\n",
              "            title=\"Suggest charts\"\n",
              "            style=\"display:none;\">\n",
              "\n",
              "<svg xmlns=\"http://www.w3.org/2000/svg\" height=\"24px\"viewBox=\"0 0 24 24\"\n",
              "     width=\"24px\">\n",
              "    <g>\n",
              "        <path d=\"M19 3H5c-1.1 0-2 .9-2 2v14c0 1.1.9 2 2 2h14c1.1 0 2-.9 2-2V5c0-1.1-.9-2-2-2zM9 17H7v-7h2v7zm4 0h-2V7h2v10zm4 0h-2v-4h2v4z\"/>\n",
              "    </g>\n",
              "</svg>\n",
              "  </button>\n",
              "\n",
              "<style>\n",
              "  .colab-df-quickchart {\n",
              "      --bg-color: #E8F0FE;\n",
              "      --fill-color: #1967D2;\n",
              "      --hover-bg-color: #E2EBFA;\n",
              "      --hover-fill-color: #174EA6;\n",
              "      --disabled-fill-color: #AAA;\n",
              "      --disabled-bg-color: #DDD;\n",
              "  }\n",
              "\n",
              "  [theme=dark] .colab-df-quickchart {\n",
              "      --bg-color: #3B4455;\n",
              "      --fill-color: #D2E3FC;\n",
              "      --hover-bg-color: #434B5C;\n",
              "      --hover-fill-color: #FFFFFF;\n",
              "      --disabled-bg-color: #3B4455;\n",
              "      --disabled-fill-color: #666;\n",
              "  }\n",
              "\n",
              "  .colab-df-quickchart {\n",
              "    background-color: var(--bg-color);\n",
              "    border: none;\n",
              "    border-radius: 50%;\n",
              "    cursor: pointer;\n",
              "    display: none;\n",
              "    fill: var(--fill-color);\n",
              "    height: 32px;\n",
              "    padding: 0;\n",
              "    width: 32px;\n",
              "  }\n",
              "\n",
              "  .colab-df-quickchart:hover {\n",
              "    background-color: var(--hover-bg-color);\n",
              "    box-shadow: 0 1px 2px rgba(60, 64, 67, 0.3), 0 1px 3px 1px rgba(60, 64, 67, 0.15);\n",
              "    fill: var(--button-hover-fill-color);\n",
              "  }\n",
              "\n",
              "  .colab-df-quickchart-complete:disabled,\n",
              "  .colab-df-quickchart-complete:disabled:hover {\n",
              "    background-color: var(--disabled-bg-color);\n",
              "    fill: var(--disabled-fill-color);\n",
              "    box-shadow: none;\n",
              "  }\n",
              "\n",
              "  .colab-df-spinner {\n",
              "    border: 2px solid var(--fill-color);\n",
              "    border-color: transparent;\n",
              "    border-bottom-color: var(--fill-color);\n",
              "    animation:\n",
              "      spin 1s steps(1) infinite;\n",
              "  }\n",
              "\n",
              "  @keyframes spin {\n",
              "    0% {\n",
              "      border-color: transparent;\n",
              "      border-bottom-color: var(--fill-color);\n",
              "      border-left-color: var(--fill-color);\n",
              "    }\n",
              "    20% {\n",
              "      border-color: transparent;\n",
              "      border-left-color: var(--fill-color);\n",
              "      border-top-color: var(--fill-color);\n",
              "    }\n",
              "    30% {\n",
              "      border-color: transparent;\n",
              "      border-left-color: var(--fill-color);\n",
              "      border-top-color: var(--fill-color);\n",
              "      border-right-color: var(--fill-color);\n",
              "    }\n",
              "    40% {\n",
              "      border-color: transparent;\n",
              "      border-right-color: var(--fill-color);\n",
              "      border-top-color: var(--fill-color);\n",
              "    }\n",
              "    60% {\n",
              "      border-color: transparent;\n",
              "      border-right-color: var(--fill-color);\n",
              "    }\n",
              "    80% {\n",
              "      border-color: transparent;\n",
              "      border-right-color: var(--fill-color);\n",
              "      border-bottom-color: var(--fill-color);\n",
              "    }\n",
              "    90% {\n",
              "      border-color: transparent;\n",
              "      border-bottom-color: var(--fill-color);\n",
              "    }\n",
              "  }\n",
              "</style>\n",
              "\n",
              "  <script>\n",
              "    async function quickchart(key) {\n",
              "      const quickchartButtonEl =\n",
              "        document.querySelector('#' + key + ' button');\n",
              "      quickchartButtonEl.disabled = true;  // To prevent multiple clicks.\n",
              "      quickchartButtonEl.classList.add('colab-df-spinner');\n",
              "      try {\n",
              "        const charts = await google.colab.kernel.invokeFunction(\n",
              "            'suggestCharts', [key], {});\n",
              "      } catch (error) {\n",
              "        console.error('Error during call to suggestCharts:', error);\n",
              "      }\n",
              "      quickchartButtonEl.classList.remove('colab-df-spinner');\n",
              "      quickchartButtonEl.classList.add('colab-df-quickchart-complete');\n",
              "    }\n",
              "    (() => {\n",
              "      let quickchartButtonEl =\n",
              "        document.querySelector('#df-9a682bdc-b44b-4f1b-8f7f-c27e69d6d4c1 button');\n",
              "      quickchartButtonEl.style.display =\n",
              "        google.colab.kernel.accessAllowed ? 'block' : 'none';\n",
              "    })();\n",
              "  </script>\n",
              "</div>\n",
              "\n",
              "    </div>\n",
              "  </div>\n"
            ],
            "text/plain": [
              "    id                                              title  \\\n",
              "0  0.0  LAW ENFORCEMENT ON HIGH ALERT Following Threat...   \n",
              "1  1.0                                                NaN   \n",
              "2  2.0  UNBELIEVABLE! OBAMA’S ATTORNEY GENERAL SAYS MO...   \n",
              "3  3.0  Bobby Jindal, raised Hindu, uses story of Chri...   \n",
              "4  4.0  SATAN 2: Russia unvelis an image of its terrif...   \n",
              "\n",
              "                                                text  label  \n",
              "0  No comment is expected from Barack Obama Membe...    1.0  \n",
              "1     Did they post their votes for Hillary already?    1.0  \n",
              "2   Now, most of the demonstrators gathered last ...    1.0  \n",
              "3  A dozen politically active pastors came here f...    0.0  \n",
              "4  The RS-28 Sarmat missile, dubbed Satan 2, will...    1.0  "
            ]
          },
          "execution_count": 3,
          "metadata": {},
          "output_type": "execute_result"
        }
      ],
      "source": [
        "dataset=pd.read_csv('/content/news_dataset.csv')\n",
        "dataset.head(5)"
      ]
    },
    {
      "cell_type": "markdown",
      "metadata": {
        "id": "-CA3NsRJAndP"
      },
      "source": [
        "# Exploratory data analysis (EDA)"
      ]
    },
    {
      "cell_type": "code",
      "execution_count": null,
      "metadata": {
        "colab": {
          "base_uri": "https://localhost:8080/"
        },
        "id": "sC2ISfK21pL7",
        "outputId": "408059a4-2245-4179-8dfd-e944f7599c4f"
      },
      "outputs": [
        {
          "data": {
            "text/plain": [
              "(1107, 4)"
            ]
          },
          "execution_count": 3,
          "metadata": {},
          "output_type": "execute_result"
        }
      ],
      "source": [
        "dataset.shape"
      ]
    },
    {
      "cell_type": "code",
      "execution_count": null,
      "metadata": {
        "colab": {
          "base_uri": "https://localhost:8080/"
        },
        "id": "Nyp7hgCx-jf7",
        "outputId": "044247d7-c3ad-4e91-af8e-df34b8ada309"
      },
      "outputs": [
        {
          "name": "stdout",
          "output_type": "stream",
          "text": [
            "<class 'pandas.core.frame.DataFrame'>\n",
            "RangeIndex: 1107 entries, 0 to 1106\n",
            "Data columns (total 4 columns):\n",
            " #   Column  Non-Null Count  Dtype  \n",
            "---  ------  --------------  -----  \n",
            " 0   id      1106 non-null   float64\n",
            " 1   title   1094 non-null   object \n",
            " 2   text    1106 non-null   object \n",
            " 3   label   1105 non-null   float64\n",
            "dtypes: float64(2), object(2)\n",
            "memory usage: 34.7+ KB\n"
          ]
        }
      ],
      "source": [
        "dataset.info()"
      ]
    },
    {
      "cell_type": "code",
      "execution_count": null,
      "metadata": {
        "colab": {
          "base_uri": "https://localhost:8080/",
          "height": 209
        },
        "id": "B5rZlgrvQj4j",
        "outputId": "d7b6e571-c48d-4902-d110-84a995eb6e93"
      },
      "outputs": [
        {
          "data": {
            "text/html": [
              "<div>\n",
              "<style scoped>\n",
              "    .dataframe tbody tr th:only-of-type {\n",
              "        vertical-align: middle;\n",
              "    }\n",
              "\n",
              "    .dataframe tbody tr th {\n",
              "        vertical-align: top;\n",
              "    }\n",
              "\n",
              "    .dataframe thead th {\n",
              "        text-align: right;\n",
              "    }\n",
              "</style>\n",
              "<table border=\"1\" class=\"dataframe\">\n",
              "  <thead>\n",
              "    <tr style=\"text-align: right;\">\n",
              "      <th></th>\n",
              "      <th>0</th>\n",
              "    </tr>\n",
              "  </thead>\n",
              "  <tbody>\n",
              "    <tr>\n",
              "      <th>id</th>\n",
              "      <td>1</td>\n",
              "    </tr>\n",
              "    <tr>\n",
              "      <th>title</th>\n",
              "      <td>13</td>\n",
              "    </tr>\n",
              "    <tr>\n",
              "      <th>text</th>\n",
              "      <td>1</td>\n",
              "    </tr>\n",
              "    <tr>\n",
              "      <th>label</th>\n",
              "      <td>2</td>\n",
              "    </tr>\n",
              "  </tbody>\n",
              "</table>\n",
              "</div><br><label><b>dtype:</b> int64</label>"
            ],
            "text/plain": [
              "id        1\n",
              "title    13\n",
              "text      1\n",
              "label     2\n",
              "dtype: int64"
            ]
          },
          "execution_count": 4,
          "metadata": {},
          "output_type": "execute_result"
        }
      ],
      "source": [
        "dataset.isnull().sum()"
      ]
    },
    {
      "cell_type": "code",
      "execution_count": null,
      "metadata": {
        "id": "nIjXyl8BI_Jq"
      },
      "outputs": [],
      "source": [
        "dataset = dataset.dropna(subset=['text'])"
      ]
    },
    {
      "cell_type": "code",
      "execution_count": null,
      "metadata": {
        "id": "dldK01RmRLU_"
      },
      "outputs": [],
      "source": [
        "dataset['label'] = dataset['label'].fillna(dataset['label'].mode()[0])"
      ]
    },
    {
      "cell_type": "code",
      "execution_count": null,
      "metadata": {
        "id": "LFCdfiHYA10O"
      },
      "outputs": [],
      "source": [
        "dataset['label'] = dataset['label'].astype(int)"
      ]
    },
    {
      "cell_type": "code",
      "execution_count": null,
      "metadata": {
        "colab": {
          "base_uri": "https://localhost:8080/",
          "height": 209
        },
        "id": "3Tur6Ab5ymRy",
        "outputId": "53e58358-8ca4-415a-fec8-f6e59b79dac9"
      },
      "outputs": [
        {
          "data": {
            "text/html": [
              "<div>\n",
              "<style scoped>\n",
              "    .dataframe tbody tr th:only-of-type {\n",
              "        vertical-align: middle;\n",
              "    }\n",
              "\n",
              "    .dataframe tbody tr th {\n",
              "        vertical-align: top;\n",
              "    }\n",
              "\n",
              "    .dataframe thead th {\n",
              "        text-align: right;\n",
              "    }\n",
              "</style>\n",
              "<table border=\"1\" class=\"dataframe\">\n",
              "  <thead>\n",
              "    <tr style=\"text-align: right;\">\n",
              "      <th></th>\n",
              "      <th>0</th>\n",
              "    </tr>\n",
              "  </thead>\n",
              "  <tbody>\n",
              "    <tr>\n",
              "      <th>id</th>\n",
              "      <td>0</td>\n",
              "    </tr>\n",
              "    <tr>\n",
              "      <th>title</th>\n",
              "      <td>12</td>\n",
              "    </tr>\n",
              "    <tr>\n",
              "      <th>text</th>\n",
              "      <td>0</td>\n",
              "    </tr>\n",
              "    <tr>\n",
              "      <th>label</th>\n",
              "      <td>0</td>\n",
              "    </tr>\n",
              "  </tbody>\n",
              "</table>\n",
              "</div><br><label><b>dtype:</b> int64</label>"
            ],
            "text/plain": [
              "id        0\n",
              "title    12\n",
              "text      0\n",
              "label     0\n",
              "dtype: int64"
            ]
          },
          "execution_count": 8,
          "metadata": {},
          "output_type": "execute_result"
        }
      ],
      "source": [
        "dataset.isnull().sum()"
      ]
    },
    {
      "cell_type": "markdown",
      "metadata": {
        "id": "QxKlf-ISA_4s"
      },
      "source": [
        "# Feature engineering and preprocessing."
      ]
    },
    {
      "cell_type": "code",
      "execution_count": null,
      "metadata": {
        "id": "jT-1JUfP4etb"
      },
      "outputs": [],
      "source": [
        "def transform_text(text):\n",
        "    text = text.lower()\n",
        "    text = word_tokenize(text)\n",
        "\n",
        "    y = []\n",
        "    for i in text:\n",
        "        if i.isalnum() or i not in punctuation:\n",
        "            y.append(i)\n",
        "\n",
        "    text = y[:]\n",
        "    y.clear()\n",
        "\n",
        "    for i in text:\n",
        "        if i not in stopwords.words('english'):\n",
        "            y.append(i)\n",
        "\n",
        "\n",
        "    ps = PorterStemmer()\n",
        "    text = y[:]\n",
        "    y.clear()\n",
        "\n",
        "    for i in text:\n",
        "        y.append(ps.stem(i))\n",
        "\n",
        "    return \" \".join(y)"
      ]
    },
    {
      "cell_type": "code",
      "execution_count": null,
      "metadata": {
        "colab": {
          "base_uri": "https://localhost:8080/"
        },
        "id": "qrwiAQFYzn-G",
        "outputId": "9ddbca18-92d6-4ed5-f34a-0516ab0b8b5d"
      },
      "outputs": [
        {
          "name": "stderr",
          "output_type": "stream",
          "text": [
            "[nltk_data] Downloading package punkt to /root/nltk_data...\n",
            "[nltk_data]   Unzipping tokenizers/punkt.zip.\n"
          ]
        },
        {
          "data": {
            "text/plain": [
              "True"
            ]
          },
          "execution_count": 10,
          "metadata": {},
          "output_type": "execute_result"
        }
      ],
      "source": [
        "import nltk\n",
        "nltk.download('punkt')"
      ]
    },
    {
      "cell_type": "code",
      "execution_count": null,
      "metadata": {
        "colab": {
          "base_uri": "https://localhost:8080/"
        },
        "id": "GSu2RUOJzvS-",
        "outputId": "3be63d66-8909-4dba-e7ae-f824384dacbd"
      },
      "outputs": [
        {
          "name": "stderr",
          "output_type": "stream",
          "text": [
            "[nltk_data] Downloading package stopwords to /root/nltk_data...\n",
            "[nltk_data]   Unzipping corpora/stopwords.zip.\n"
          ]
        },
        {
          "data": {
            "text/plain": [
              "True"
            ]
          },
          "execution_count": 11,
          "metadata": {},
          "output_type": "execute_result"
        }
      ],
      "source": [
        "import nltk\n",
        "nltk.download('stopwords')"
      ]
    },
    {
      "cell_type": "code",
      "source": [
        "import nltk\n",
        "nltk.download('stopwords')"
      ],
      "metadata": {
        "colab": {
          "base_uri": "https://localhost:8080/"
        },
        "id": "TlZ_OhJQjlrd",
        "outputId": "88444aa9-b019-48b1-f2be-fee99234652b"
      },
      "execution_count": null,
      "outputs": [
        {
          "output_type": "stream",
          "name": "stderr",
          "text": [
            "[nltk_data] Downloading package stopwords to /root/nltk_data...\n",
            "[nltk_data]   Unzipping corpora/stopwords.zip.\n"
          ]
        },
        {
          "output_type": "execute_result",
          "data": {
            "text/plain": [
              "True"
            ]
          },
          "metadata": {},
          "execution_count": 1
        }
      ]
    },
    {
      "cell_type": "code",
      "execution_count": null,
      "metadata": {
        "colab": {
          "background_save": true
        },
        "id": "lFU6Wd0_UY60"
      },
      "outputs": [],
      "source": [
        "dataset['transform_text']=dataset['text'].apply(transform_text)"
      ]
    },
    {
      "cell_type": "markdown",
      "metadata": {
        "id": "HUDAudLzBYWN"
      },
      "source": [
        "# Converting the dataset from textual data to numerical representation."
      ]
    },
    {
      "cell_type": "code",
      "execution_count": null,
      "metadata": {
        "id": "VEaIP1zu7T3Q"
      },
      "outputs": [],
      "source": [
        "cv=CountVectorizer()\n",
        "input_data=cv.fit_transform(dataset['transform_text']).toarray()\n",
        "output_data=dataset['label']"
      ]
    },
    {
      "cell_type": "markdown",
      "metadata": {
        "id": "2yAlPJgIBxw7"
      },
      "source": [
        "# Partitioning the dataset into training and testing"
      ]
    },
    {
      "cell_type": "code",
      "execution_count": null,
      "metadata": {
        "id": "JCOfP35D7kKI"
      },
      "outputs": [],
      "source": [
        "x_train,x_test,y_train,y_test=train_test_split(input_data,output_data,test_size=0.2,random_state=31)"
      ]
    },
    {
      "cell_type": "markdown",
      "metadata": {
        "id": "4CJPqRlf9zMD"
      },
      "source": [
        "# Logistic regression"
      ]
    },
    {
      "cell_type": "code",
      "execution_count": null,
      "metadata": {
        "colab": {
          "base_uri": "https://localhost:8080/"
        },
        "id": "TY8fmc6E4tBm",
        "outputId": "381a9944-6032-4ad9-bab5-f08ef6449232"
      },
      "outputs": [
        {
          "output_type": "stream",
          "name": "stdout",
          "text": [
            "training accuracy: 1.0 \n",
            "testing accuracy: 0.8648648648648649\n",
            "accuracy: 0.8648648648648649\n",
            "f1_score: 0.8800000000000001\n"
          ]
        }
      ],
      "source": [
        "lr=LogisticRegression()\n",
        "lr.fit(x_train,y_train)\n",
        "print(\"training accuracy:\",lr.score(x_train,y_train),\"\\ntesting accuracy:\",lr.score(x_test,y_test))\n",
        "print(\"accuracy:\",accuracy_score(y_test,lr.predict(x_test)))\n",
        "print(\"f1_score:\",f1_score(y_test,lr.predict(x_test)))"
      ]
    },
    {
      "cell_type": "markdown",
      "metadata": {
        "id": "F1EVCtwCHSV2"
      },
      "source": [
        "-----------------------------------------------------------------------------"
      ]
    },
    {
      "cell_type": "markdown",
      "metadata": {
        "id": "dY_TW3BPDQ-P"
      },
      "source": [
        "## Initially, we imported the necessary libraries, uploaded the dataset, and conducted exploratory data analysis (EDA). Subsequently, we transformed the textual data into numerical representations. The dataset was then partitioned into training and testing sets, followed by the implementation of the following models:\n",
        "\n",
        "\n",
        "\n",
        "### * Logistic Regression: This supervised machine learning model is employed for classification tasks, where the objective is to predict the probability of an instance belonging to a particular class. This model provided the best accuracy, with **1.00** on the training data and **0.93** on the testing data.\n",
        "\n"
      ]
    }
  ],
  "metadata": {
    "colab": {
      "provenance": [],
      "authorship_tag": "ABX9TyNZ16oR8xGXsYEQ2vS8m23v",
      "include_colab_link": true
    },
    "kernelspec": {
      "display_name": "Python 3",
      "name": "python3"
    },
    "language_info": {
      "name": "python"
    }
  },
  "nbformat": 4,
  "nbformat_minor": 0
}